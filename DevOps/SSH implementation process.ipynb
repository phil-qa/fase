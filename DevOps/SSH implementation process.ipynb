{
 "cells": [
  {
   "cell_type": "markdown",
   "id": "88195069-ad79-49dd-b6ff-f08b992ae100",
   "metadata": {},
   "source": [
    "# SSH implementation process\n",
    "- ***Generate SSH Key***\n",
    "    - Open terminal\n",
    "    - Generate the SSH key\n",
    "\n"
   ]
  },
  {
   "cell_type": "markdown",
   "id": "36474598-c489-45c8-ba7c-48a8794b59c1",
   "metadata": {},
   "source": [
    "### Generate the SSH key \n",
    "`sh` <br/>\n",
    "`Copy code` <br/>\n",
    "`ssh-keygen -t rsa -b 4096 -C \"your_email@example.com\"` <br/>   \n",
    "\n",
    "`Enter a file in which to save the key: Press Enter to accept the default location (~/.ssh/id_rsa).`   <br/>\n",
    "`Enter a passphrase (optional): Enter a passphrase or press Enter to leave it empty.`    <br/>\n",
    "***Add the SSH key to the SSH agent***  Start the agent in the background :   \n",
    "`sh`<br/>\n",
    "`eval \"$(ssh-agent -s)\"`<br/>\n",
    "***add the SSH private key to the SSH agent***   \n",
    "`ssh-add ~/.ssh/id_rsa`<br/>  \n",
    "\n"
   ]
  },
  {
   "cell_type": "markdown",
   "id": "eadbcad8-af76-4c06-a42a-051f06b0854a",
   "metadata": {},
   "source": [
    "### Add the SSH key to gitlab   \n",
    "Copy the key value from the generated file   \n",
    "Add the SSH Key to GitLab:   \n",
    " Log in to GitLab.   \n",
    " Go to Settings by clicking your profile picture or avatar in the top-right\n",
    "corner, then selecting Settings.   \n",
    " Navigate to SSH Keys in the left sidebar.   \n",
    " Paste the SSH Key into the Key field.   \n",
    " Add a title (e.g., My Laptop SSH Key).   \n",
    " Click Add key.   "
   ]
  },
  {
   "cell_type": "markdown",
   "id": "cb010333-8162-4957-a2de-1588db4e2438",
   "metadata": {},
   "source": [
    "### Verify SSH key configuration   \n",
    "`ssh -T git@gitlab.com`<br/>  \n",
    "1. If successful: You should see a message like Welcome to\n",
    "   `GitLab, <username>`\n",
    "3. If not successful: Ensure your SSH key is correctly added and try again."
   ]
  },
  {
   "cell_type": "markdown",
   "id": "2346e10b-cb7a-4df8-81ca-da80b1a68d4d",
   "metadata": {},
   "source": [
    "### Clone the repository  \n",
    "`git clone git@gitlab.com:fase-team/FASE.git`<br/>"
   ]
  },
  {
   "cell_type": "code",
   "execution_count": null,
   "id": "92415fdc-ec0e-486e-b8d1-bf25ea4ff742",
   "metadata": {},
   "outputs": [],
   "source": []
  },
  {
   "cell_type": "markdown",
   "id": "8fc1c04d-39ba-4c92-b247-5e7dc3614028",
   "metadata": {},
   "source": [
    "``<br/>"
   ]
  }
 ],
 "metadata": {
  "kernelspec": {
   "display_name": "Python 3 (ipykernel)",
   "language": "python",
   "name": "python3"
  },
  "language_info": {
   "codemirror_mode": {
    "name": "ipython",
    "version": 3
   },
   "file_extension": ".py",
   "mimetype": "text/x-python",
   "name": "python",
   "nbconvert_exporter": "python",
   "pygments_lexer": "ipython3",
   "version": "3.11.9"
  }
 },
 "nbformat": 4,
 "nbformat_minor": 5
}
