{
 "cells": [
  {
   "cell_type": "markdown",
   "id": "e42a5def-b8be-4279-a883-47ac02dd0f6d",
   "metadata": {},
   "source": [
    "# Git operations \n",
    "The following operations were used for working with the VCS   \n",
    "there is the requirement for pulling the original work. This was done with a git clone operation.    \n",
    "To get data back into the lab the local remote reference had to be updated with the username and the token in the path. \n",
    "The resultant pull requests failed to work because there were local changes and the remote repository origin was a protected branch. This was resolved with a pull request, the process was: \n",
    "`git checkout -b holding-branch main`\n",
    "`git push -u origin holding branch`   \n",
    "In the gitlab area a pull request was issued and the branch merged.\n"
   ]
  },
  {
   "cell_type": "code",
   "execution_count": null,
   "id": "b8ed20a9-3698-46bf-b490-5a474fbbcd83",
   "metadata": {},
   "outputs": [],
   "source": []
  }
 ],
 "metadata": {
  "kernelspec": {
   "display_name": "Python 3 (ipykernel)",
   "language": "python",
   "name": "python3"
  },
  "language_info": {
   "codemirror_mode": {
    "name": "ipython",
    "version": 3
   },
   "file_extension": ".py",
   "mimetype": "text/x-python",
   "name": "python",
   "nbconvert_exporter": "python",
   "pygments_lexer": "ipython3",
   "version": "3.11.9"
  }
 },
 "nbformat": 4,
 "nbformat_minor": 5
}
