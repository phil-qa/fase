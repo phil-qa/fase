{
 "cells": [
  {
   "cell_type": "markdown",
   "id": "f4ff930f-c2da-4145-b915-32c8a82369ff",
   "metadata": {},
   "source": [
    "# Devops \n",
    "## building a CI/CD pipeline in GitHub\n",
    "\n",
    "## Prerequisites\n",
    "Jenkins Installation: Ensure Jenkins is installed and running.   \n",
    "Git Repository: Have a Git repository set up with your Java backend and React frontend code.   \n",
    "Jenkins Plugins: Install necessary plugins in Jenkins (e.g., Git, NodeJS, Maven, Pipeline).   \n",
    "### Step-by-Step Guide\n",
    "1. Jenkins Job Configuration\n",
    "\n",
    "#### Install Jenkins Plugins:\n",
    "\n",
    "- Git Plugin: For pulling the code from your Git repository.\n",
    "- NodeJS Plugin: For building the React frontend.\n",
    "- Maven Integration Plugin: For building the Java backend.\n",
    "- Pipeline Plugin: For creating pipeline jobs.\n",
    "#### Create a Jenkins Pipeline Job:\n",
    "\n",
    "- Open Jenkins and click on \"New Item\".\n",
    "- Select \"Pipeline\" and give it a name.\n",
    "- Click \"OK\".\n",
    "\n",
    "#### Pipeline Configuration:\n",
    "\n",
    "Scroll down to the \"Pipeline\" section.\n",
    "Choose \"Pipeline script\" from SCM.\n",
    "Select \"Git\" and enter your repository URL.\n",
    "Provide branch details if necessary.\n",
    "2. Pipeline Script (Jenkinsfile)\n",
    "Create a Jenkinsfile in the root of your Git repository. This file defines the CI/CD pipeline."
   ]
  }
 ],
 "metadata": {
  "kernelspec": {
   "display_name": "Python 3 (ipykernel)",
   "language": "python",
   "name": "python3"
  },
  "language_info": {
   "codemirror_mode": {
    "name": "ipython",
    "version": 3
   },
   "file_extension": ".py",
   "mimetype": "text/x-python",
   "name": "python",
   "nbconvert_exporter": "python",
   "pygments_lexer": "ipython3",
   "version": "3.11.9"
  }
 },
 "nbformat": 4,
 "nbformat_minor": 5
}
