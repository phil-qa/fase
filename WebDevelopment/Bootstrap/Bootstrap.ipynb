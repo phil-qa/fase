{
 "cells": [
  {
   "cell_type": "markdown",
   "id": "0f21c87f-1439-4937-bf61-c0fed3dba5a0",
   "metadata": {},
   "source": [
    "# Bootstrap \n",
    "\n",
    "## What is bootstrap \n",
    "\n",
    "In this section, we're going to be learning about the Bootstrap Framework.   \n",
    "\n",
    "And this is one of many external CSS layout systems, but this is probably one of the most popular and the one that you'll most likely to come across out in the wild.   \n",
    "\n",
    "Bootstrap, as I said, is a CSS framework created in 2010 by two Twitter developers Mark Otto and Jacob Thornton.\n",
    "\n",
    "Now the power of Bootstrap and the reason why it became so popular is it contained pre-made CSS files, which you can simply include into your project in order to use their pre-built components and styling.\n",
    "\n",
    "For example, if you wanted to have some tags in your website, you could create a look like this by simply adding a few classes to your HTML.\n",
    "\n",
    "On top of that, one of the biggest reasons why Bootstrap took off is because of their 12-column layout system built on top of Flexbox, that makes it really easy to create responsive websites and websites that simply just work and look great on mobile as well as desktop, the so-called, Mobile First approach."
   ]
  },
  {
   "attachments": {},
   "cell_type": "markdown",
   "id": "1e9c6077-906b-4903-9952-f27711a2498c",
   "metadata": {},
   "source": [
    "### Where is the content \n",
    "The content for the stylesheets for the components tha tare used in bootstrap are available on github :   \n",
    "[bootstrap](https://github.com/twbs/bootstrap/tree/main/scss)\n",
    "\n",
    "### What is it built on \n",
    "Bootstrap is built on the flexbox component \n",
    "\n",
    "### Wht does it give us \n",
    "It gives us a rapid development option for a website where the components are pre-defined. There are other tools but this one has the highest penetration. There are a lot of websites out there that are developed without using frameworks klike this but on the whole this helps by providing out of the box solutions that naturally align with the mobile first principles.  \n",
    "\n",
    "#### pros\n",
    "The framework is pre-tested against all deployment options and browsers. \n",
    "The solution provides an out of the box set of implementations to rapidly make and deploy something beautiful and functional.\n",
    "\n",
    "#### cons \n",
    "There are considerations that implementing this framework or similar may well cause class bloat as there is a lot of referencing inside the html structure to implement it. Secondly there are limits to the customisation that is needed. \n",
    "\n",
    "\n"
   ]
  },
  {
   "cell_type": "markdown",
   "id": "0d67c60c-f64f-4ec5-8a28-afe9dd0a1fa9",
   "metadata": {},
   "source": [
    "## Installing the framework\n",
    "The easiest way of implementing the framework is through a content delivery network. THis is efficient as they know where you are and they can efficiently access the resource requested.   \n",
    "The reference for the framework sits in a `<link>` component with the targets as: \n",
    "\n",
    "`<link href=\"https://cdn.jsdelivr.net/npm/bootstrap@5.3.3/dist/css/bootstrap.min.css\" rel=\"stylesheet\" integrity=\"sha384-QWTKZyjpPEjISv5WaRU9OFeRpok6YctnYmDr5pNlyT2bRjXh0JMhjY6hW+ALEwIH\" crossorigin=\"anonymous\">`<br/>   \n",
    "\n",
    "\n",
    "\n",
    "`<script src=\"https://cdn.jsdelivr.net/npm/bootstrap@5.3.3/dist/js/bootstrap.bundle.min.js\" integrity=\"sha384-YvpcrYf0tY3lHB60NNkmXc5s9fDVZLESaAA55NDzOxhy9GkcIdslK1eN7N6jIeHz\" crossorigin=\"anonymous\"></script>` <br/>\n",
    "\n",
    "\n"
   ]
  },
  {
   "cell_type": "markdown",
   "id": "a375456d-e43a-4d4f-b329-ef4f059ad64b",
   "metadata": {},
   "source": [
    "## Simple example\n",
    "In the simple example folder is an index.html file that has a card utilised from the framework. For more information on the card component :   \n",
    "[documentation](https://getbootstrap.com/docs/5.3/getting-started/introduction/)   \n",
    "\n",
    "***Note*** that the flex-container is from the bootstrap framework, but in the implementation shouwn we apply some additional configurations to get it to the way we want it.\n",
    "\n",
    "***Note*** that if there were additional internal links to any local css stylesheets then they would need to exist below the bootstrap framework reference. This allows external stylesheets to overide the bootstrap framework.\n",
    "\n"
   ]
  },
  {
   "cell_type": "markdown",
   "id": "294e674f-68dd-4750-8293-c4818b3fe136",
   "metadata": {},
   "source": [
    "## Bootstrap layout \n",
    "Bootstrap by default uses a 12 column layout. For this to work it has to exist in a hierarchical construct:   \n",
    "div container:   \n",
    "    div row :   \n",
    "        items   \n",
    "### Container \n",
    "The container component of the framework is implemented to achieve this:   \n",
    "[container documentation](https://getbootstrap.com/docs/5.3/layout/containers/)   \n",
    "\n",
    "Using the class definition of container will leverage the framework's layout, as expressed above. For each column we apply to the framework, we get an equally divided component in the row.   \n",
    "\n",
    "### Sized columns \n",
    "We can further differentiate the column widths by specifically addressing or adding classes that are to respond to that design implementation.   \n",
    "<em>Example in  the sized columns folder </em>\n",
    "\n",
    "### Bootstrap breakpoints \n",
    "[Breakpoints documentation](https://getbootstrap.com/docs/5.3/layout/breakpoints/)  \n",
    "One of the major advantages of this is that we do not have to use the @media option as the sizes defined int the framework take over that functionality, they operate in the range context so small starts at small and ends below medium etc etc.  \n",
    "Breakpoints are included as something that is again reflective of the target devices. : \n",
    "- Small : mobile dev\n",
    "- medium : ipad or tablet\n",
    "- large : desktop\n"
   ]
  },
  {
   "cell_type": "code",
   "execution_count": null,
   "id": "39b862c5-4313-4e34-b93e-2425b4799633",
   "metadata": {},
   "outputs": [],
   "source": []
  }
 ],
 "metadata": {
  "kernelspec": {
   "display_name": "Python 3 (ipykernel)",
   "language": "python",
   "name": "python3"
  },
  "language_info": {
   "codemirror_mode": {
    "name": "ipython",
    "version": 3
   },
   "file_extension": ".py",
   "mimetype": "text/x-python",
   "name": "python",
   "nbconvert_exporter": "python",
   "pygments_lexer": "ipython3",
   "version": "3.11.9"
  }
 },
 "nbformat": 4,
 "nbformat_minor": 5
}
